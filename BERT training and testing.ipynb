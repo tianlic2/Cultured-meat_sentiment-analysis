{
 "cells": [
  {
   "cell_type": "markdown",
   "id": "a75b6bd6",
   "metadata": {},
   "source": [
    "# Import necessary packages"
   ]
  },
  {
   "cell_type": "code",
   "execution_count": null,
   "id": "59adbf4d",
   "metadata": {},
   "outputs": [],
   "source": [
    "import pandas as pd\n",
    "import torch\n",
    "from torch.utils.data import DataLoader, Dataset, random_split\n",
    "from transformers import BertTokenizer, BertForSequenceClassification"
   ]
  },
  {
   "cell_type": "code",
   "execution_count": 2,
   "id": "59addd85",
   "metadata": {},
   "outputs": [
    {
     "name": "stdout",
     "output_type": "stream",
     "text": [
      "Requirement already satisfied: transformers in /opt/anaconda3/lib/python3.7/site-packages (4.26.0)\n",
      "Requirement already satisfied: tqdm>=4.27 in /opt/anaconda3/lib/python3.7/site-packages (from transformers) (4.64.1)\n",
      "Requirement already satisfied: tokenizers!=0.11.3,<0.14,>=0.11.1 in /opt/anaconda3/lib/python3.7/site-packages (from transformers) (0.13.2)\n",
      "Requirement already satisfied: numpy>=1.17 in /opt/anaconda3/lib/python3.7/site-packages (from transformers) (1.21.6)\n",
      "Requirement already satisfied: pyyaml>=5.1 in /opt/anaconda3/lib/python3.7/site-packages (from transformers) (5.4.1)\n",
      "Requirement already satisfied: importlib-metadata in /opt/anaconda3/lib/python3.7/site-packages (from transformers) (4.11.3)\n",
      "Requirement already satisfied: filelock in /opt/anaconda3/lib/python3.7/site-packages (from transformers) (3.6.0)\n",
      "Requirement already satisfied: regex!=2019.12.17 in /opt/anaconda3/lib/python3.7/site-packages (from transformers) (2021.8.3)\n",
      "Requirement already satisfied: huggingface-hub<1.0,>=0.11.0 in /opt/anaconda3/lib/python3.7/site-packages (from transformers) (0.12.0)\n",
      "Requirement already satisfied: packaging>=20.0 in /opt/anaconda3/lib/python3.7/site-packages (from transformers) (21.3)\n",
      "Requirement already satisfied: requests in /opt/anaconda3/lib/python3.7/site-packages (from transformers) (2.28.1)\n",
      "Requirement already satisfied: typing-extensions>=3.7.4.3 in /opt/anaconda3/lib/python3.7/site-packages (from huggingface-hub<1.0,>=0.11.0->transformers) (4.7.1)\n",
      "Requirement already satisfied: pyparsing!=3.0.5,>=2.0.2 in /opt/anaconda3/lib/python3.7/site-packages (from packaging>=20.0->transformers) (3.0.9)\n",
      "Requirement already satisfied: zipp>=0.5 in /opt/anaconda3/lib/python3.7/site-packages (from importlib-metadata->transformers) (3.7.0)\n",
      "Requirement already satisfied: urllib3<1.27,>=1.21.1 in /opt/anaconda3/lib/python3.7/site-packages (from requests->transformers) (1.26.8)\n",
      "Requirement already satisfied: certifi>=2017.4.17 in /opt/anaconda3/lib/python3.7/site-packages (from requests->transformers) (2021.5.30)\n",
      "Requirement already satisfied: idna<4,>=2.5 in /opt/anaconda3/lib/python3.7/site-packages (from requests->transformers) (3.3)\n",
      "Requirement already satisfied: charset-normalizer<3,>=2 in /opt/anaconda3/lib/python3.7/site-packages (from requests->transformers) (2.0.4)\n",
      "Note: you may need to restart the kernel to use updated packages.\n"
     ]
    }
   ],
   "source": [
    "pip install transformers"
   ]
  },
  {
   "cell_type": "markdown",
   "id": "b77d7a58",
   "metadata": {},
   "source": [
    "# Import labeled dataset"
   ]
  },
  {
   "cell_type": "code",
   "execution_count": 2,
   "id": "88d7b878",
   "metadata": {},
   "outputs": [],
   "source": [
    "Paris_1 = pd.read_csv('Coding_Paris_Week1.csv')\n",
    "Paris_2 = pd.read_csv('Coding_Paris_Week2.csv')\n",
    "Paris_3 = pd.read_csv('Coding_Paris_Week3.csv')\n",
    "Paris_4 = pd.read_csv('Coding_Paris_Week4.csv')\n",
    "Paris_5 = pd.read_csv('Coding_Paris_Week5.csv')\n",
    "Shawn_1 = pd.read_csv('Coding_Shawn_Week1.csv')\n",
    "Shawn_2 = pd.read_csv('Coding_Shawn_Week2.csv')\n",
    "Shawn_3 = pd.read_csv('Coding_Shawn_Week3.csv')\n",
    "Shawn_4 = pd.read_csv('Coding_Shawn_Week4.csv')\n",
    "Shawn_5 = pd.read_csv('Coding_Shawn_Week5.csv')\n",
    "Tianli_1 = pd.read_csv('Coding_Tianli_Week1.csv')\n",
    "Tianli_2 = pd.read_csv('Coding_Tianli_Week2.csv')\n",
    "Tianli_3 = pd.read_csv('Coding_Tianli_Week3.csv')\n",
    "Tianli_4 = pd.read_csv('Coding_Tianli_Week4.csv')\n",
    "Tianli_5 = pd.read_csv('Coding_Tianli_Week5.csv')"
   ]
  },
  {
   "cell_type": "markdown",
   "id": "552e46bb",
   "metadata": {},
   "source": [
    "# Merge the labeled data"
   ]
  },
  {
   "cell_type": "code",
   "execution_count": 3,
   "id": "b43d68c2",
   "metadata": {
    "scrolled": true
   },
   "outputs": [
    {
     "data": {
      "text/html": [
       "<div>\n",
       "<style scoped>\n",
       "    .dataframe tbody tr th:only-of-type {\n",
       "        vertical-align: middle;\n",
       "    }\n",
       "\n",
       "    .dataframe tbody tr th {\n",
       "        vertical-align: top;\n",
       "    }\n",
       "\n",
       "    .dataframe thead th {\n",
       "        text-align: right;\n",
       "    }\n",
       "</style>\n",
       "<table border=\"1\" class=\"dataframe\">\n",
       "  <thead>\n",
       "    <tr style=\"text-align: right;\">\n",
       "      <th></th>\n",
       "      <th>Tweet</th>\n",
       "      <th>Sentiment</th>\n",
       "    </tr>\n",
       "  </thead>\n",
       "  <tbody>\n",
       "    <tr>\n",
       "      <th>0</th>\n",
       "      <td>RT @biancale_monash ATTN: Aus women interested...</td>\n",
       "      <td>3</td>\n",
       "    </tr>\n",
       "    <tr>\n",
       "      <th>1</th>\n",
       "      <td>The future will be full of lab grown meat: htt...</td>\n",
       "      <td>1</td>\n",
       "    </tr>\n",
       "    <tr>\n",
       "      <th>2</th>\n",
       "      <td>The Future Of Meat: 45 In Vitro Meat Recipes Y...</td>\n",
       "      <td>4</td>\n",
       "    </tr>\n",
       "    <tr>\n",
       "      <th>3</th>\n",
       "      <td>Some makers of lab-grown meat have adopted a c...</td>\n",
       "      <td>3</td>\n",
       "    </tr>\n",
       "    <tr>\n",
       "      <th>4</th>\n",
       "      <td>Lab grown meat doesn’t sit well with me</td>\n",
       "      <td>2</td>\n",
       "    </tr>\n",
       "    <tr>\n",
       "      <th>...</th>\n",
       "      <td>...</td>\n",
       "      <td>...</td>\n",
       "    </tr>\n",
       "    <tr>\n",
       "      <th>22970</th>\n",
       "      <td>I've unexpectedly ended up with David Lewis on...</td>\n",
       "      <td>3</td>\n",
       "    </tr>\n",
       "    <tr>\n",
       "      <th>22971</th>\n",
       "      <td>cheap cultivated meat https://t.co/hsXLscDaVS</td>\n",
       "      <td>3</td>\n",
       "    </tr>\n",
       "    <tr>\n",
       "      <th>22972</th>\n",
       "      <td>@BobsBlog I mean to be clear, it depends exact...</td>\n",
       "      <td>3</td>\n",
       "    </tr>\n",
       "    <tr>\n",
       "      <th>22973</th>\n",
       "      <td>The market for cultured meat is no joke (prese...</td>\n",
       "      <td>3</td>\n",
       "    </tr>\n",
       "    <tr>\n",
       "      <th>22974</th>\n",
       "      <td>@guardiannews LAB-GROWN MEAT HITS A MAJOR MILE...</td>\n",
       "      <td>3</td>\n",
       "    </tr>\n",
       "  </tbody>\n",
       "</table>\n",
       "<p>22975 rows × 2 columns</p>\n",
       "</div>"
      ],
      "text/plain": [
       "                                                   Tweet  Sentiment\n",
       "0      RT @biancale_monash ATTN: Aus women interested...          3\n",
       "1      The future will be full of lab grown meat: htt...          1\n",
       "2      The Future Of Meat: 45 In Vitro Meat Recipes Y...          4\n",
       "3      Some makers of lab-grown meat have adopted a c...          3\n",
       "4                Lab grown meat doesn’t sit well with me          2\n",
       "...                                                  ...        ...\n",
       "22970  I've unexpectedly ended up with David Lewis on...          3\n",
       "22971      cheap cultivated meat https://t.co/hsXLscDaVS          3\n",
       "22972  @BobsBlog I mean to be clear, it depends exact...          3\n",
       "22973  The market for cultured meat is no joke (prese...          3\n",
       "22974  @guardiannews LAB-GROWN MEAT HITS A MAJOR MILE...          3\n",
       "\n",
       "[22975 rows x 2 columns]"
      ]
     },
     "execution_count": 3,
     "metadata": {},
     "output_type": "execute_result"
    }
   ],
   "source": [
    "# Combine all the data frames into one\n",
    "combined_df = pd.concat([\n",
    "    Paris_1, Paris_2, Paris_3, Paris_4, Paris_5,\n",
    "    Shawn_1, Shawn_2, Shawn_3, Shawn_4, Shawn_5,\n",
    "    Tianli_1, Tianli_2, Tianli_3, Tianli_4, Tianli_5\n",
    "], ignore_index=True)\n",
    "\n",
    "combined_df['Sentiment'] = combined_df['Sentiment'].astype(int)\n",
    "\n",
    "\n",
    "\n",
    "# Check the combined data frame\n",
    "combined_df"
   ]
  },
  {
   "cell_type": "markdown",
   "id": "b4637c7a",
   "metadata": {},
   "source": [
    "# Preprocessing:\n",
    "For VADER and BERT, we performed tokenization and removed usernames, URLs, hashtag symbols (“#”), and tweet-specific terms (i.e., “RT” and “&amp”). Additionally, all words were converted to lowercase"
   ]
  },
  {
   "cell_type": "code",
   "execution_count": 11,
   "id": "19cfcfcb",
   "metadata": {},
   "outputs": [],
   "source": [
    "import gensim\n",
    "import gensim.corpora as corpora\n",
    "import re\n",
    "b = []\n",
    "for i,u in combined_df.iterrows():\n",
    "    a = []\n",
    "    word =''\n",
    "    for words in str(u['Tweet']).split():\n",
    "        if '@' not in words: #remove usernames\n",
    "            words = words.replace('#','') #remove hashtag symbols\n",
    "            if '#' not in words:\n",
    "                if \"http\" not in words: # remove URLs\n",
    "                    if '&amp' not in words: #remove tweet-specific terms\n",
    "                        if 'RT' not in words:\n",
    "                            word += (words +' ')\n",
    "    doc = ''\n",
    "    for token in word.split():\n",
    "        token = token.lower() #lowercase\n",
    "        doc += (token+' ')\n",
    "    b.append(doc)\n",
    "combined_df['processed'] = [i for i in b]"
   ]
  },
  {
   "cell_type": "markdown",
   "id": "07c26ba4",
   "metadata": {},
   "source": [
    "# The hyper parameters for BERT (following the recommendation of its authors):\n",
    "- Learning rate: 2e-5\n",
    "- Batch size: 16\n",
    "- Number of epoches: 3\n",
    "- Optimizer: AdamW\n",
    "- Linear scheduler"
   ]
  },
  {
   "cell_type": "code",
   "execution_count": 14,
   "id": "7f02ad06",
   "metadata": {
    "scrolled": true
   },
   "outputs": [
    {
     "name": "stderr",
     "output_type": "stream",
     "text": [
      "Some weights of the model checkpoint at bert-base-uncased were not used when initializing BertForSequenceClassification: ['cls.seq_relationship.weight', 'cls.predictions.transform.dense.weight', 'cls.predictions.transform.LayerNorm.bias', 'cls.predictions.transform.dense.bias', 'cls.seq_relationship.bias', 'cls.predictions.bias', 'cls.predictions.transform.LayerNorm.weight', 'cls.predictions.decoder.weight']\n",
      "- This IS expected if you are initializing BertForSequenceClassification from the checkpoint of a model trained on another task or with another architecture (e.g. initializing a BertForSequenceClassification model from a BertForPreTraining model).\n",
      "- This IS NOT expected if you are initializing BertForSequenceClassification from the checkpoint of a model that you expect to be exactly identical (initializing a BertForSequenceClassification model from a BertForSequenceClassification model).\n",
      "Some weights of BertForSequenceClassification were not initialized from the model checkpoint at bert-base-uncased and are newly initialized: ['classifier.bias', 'classifier.weight']\n",
      "You should probably TRAIN this model on a down-stream task to be able to use it for predictions and inference.\n",
      "Truncation was not explicitly activated but `max_length` is provided a specific value, please use `truncation=True` to explicitly truncate examples to max length. Defaulting to 'longest_first' truncation strategy. If you encode pairs of sequences (GLUE-style) with the tokenizer you can select this strategy more precisely by providing a specific strategy to `truncation`.\n"
     ]
    },
    {
     "data": {
      "text/plain": [
       "('./sentiment_model\\\\tokenizer_config.json',\n",
       " './sentiment_model\\\\special_tokens_map.json',\n",
       " './sentiment_model\\\\vocab.txt',\n",
       " './sentiment_model\\\\added_tokens.json')"
      ]
     },
     "execution_count": 14,
     "metadata": {},
     "output_type": "execute_result"
    }
   ],
   "source": [
    "# 1. Load the data\n",
    "df = combined_df\n",
    "tweets = df['processed'].tolist()\n",
    "labels = [label-1 for label in df['Sentiment'].tolist()]  # Adjusting labels from 1-4 to 0-3 because the outputs of BERT start from 0\n",
    "\n",
    "# 2. Define a custom dataset\n",
    "class SentimentDataset(Dataset):\n",
    "    def __init__(self, tweets, labels, tokenizer, max_len):\n",
    "        self.tweets = tweets\n",
    "        self.labels = labels\n",
    "        self.tokenizer = tokenizer\n",
    "        self.max_len = max_len\n",
    "\n",
    "    def __len__(self):\n",
    "        return len(self.tweets)\n",
    "\n",
    "    def __getitem__(self, item):\n",
    "        tweet = str(self.tweets[item])\n",
    "        label = self.labels[item]\n",
    "        encoding = self.tokenizer.encode_plus(\n",
    "            tweet,\n",
    "            add_special_tokens=True,\n",
    "            max_length=self.max_len,\n",
    "            return_token_type_ids=False,\n",
    "            pad_to_max_length=True,\n",
    "            return_attention_mask=True,\n",
    "            return_tensors='pt',\n",
    "        )\n",
    "        return {\n",
    "            'tweet_text': tweet,\n",
    "            'input_ids': encoding['input_ids'].flatten(),\n",
    "            'attention_mask': encoding['attention_mask'].flatten(),\n",
    "            'labels': torch.tensor(label, dtype=torch.long)\n",
    "        }\n",
    "\n",
    "# 3. Split the data into training and validation sets\n",
    "tokenizer = BertTokenizer.from_pretrained('bert-base-uncased')\n",
    "MAX_LEN = 128\n",
    "BATCH_SIZE = 16\n",
    "EPOCHS = 3\n",
    "\n",
    "dataset = SentimentDataset(tweets=tweets, labels=labels, tokenizer=tokenizer, max_len=MAX_LEN)\n",
    "train_size = int(0.8 * len(dataset)) #80% labeled data as training data\n",
    "val_size = len(dataset) - train_size #20% labeled data as testing data\n",
    "train_dataset, val_dataset = random_split(dataset, [train_size, val_size]) #randomly split the labeled dataset\n",
    "\n",
    "train_loader = DataLoader(train_dataset, batch_size=BATCH_SIZE, shuffle=True)\n",
    "val_loader = DataLoader(val_dataset, batch_size=BATCH_SIZE, shuffle=False)\n",
    "\n",
    "# 4. Load the BERT model\n",
    "model = BertForSequenceClassification.from_pretrained('bert-base-uncased', num_labels=4)\n",
    "device = torch.device(\"cuda\" if torch.cuda.is_available() else \"cpu\")\n",
    "model = model.to(device)\n",
    "\n",
    "# 5. Define optimizer, scheduler, and loss\n",
    "optimizer = AdamW(model.parameters(), lr=2e-5)\n",
    "total_steps = len(train_loader) * EPOCHS\n",
    "scheduler = get_linear_schedule_with_warmup(optimizer, num_warmup_steps=0, num_training_steps=total_steps)\n",
    "loss_fn = torch.nn.CrossEntropyLoss().to(device)\n",
    "\n",
    "# 6. Train the model\n",
    "for epoch in range(EPOCHS):\n",
    "    model.train()\n",
    "    for batch in train_loader:\n",
    "        input_ids = batch[\"input_ids\"].to(device)\n",
    "        attention_mask = batch[\"attention_mask\"].to(device)\n",
    "        labels = batch[\"labels\"].to(device)\n",
    "\n",
    "        outputs = model(input_ids=input_ids, attention_mask=attention_mask)\n",
    "        _, preds = torch.max(outputs.logits, dim=1)\n",
    "        loss = loss_fn(outputs.logits, labels)\n",
    "\n",
    "        optimizer.zero_grad()\n",
    "        loss.backward()\n",
    "        optimizer.step()\n",
    "        scheduler.step()\n",
    "\n",
    "# 7. Save the model\n",
    "model.save_pretrained(\"./sentiment_model\")\n",
    "tokenizer.save_pretrained(\"./sentiment_model\")"
   ]
  },
  {
   "cell_type": "markdown",
   "id": "504403c5",
   "metadata": {},
   "source": [
    "# Evaluate the performance of the fine-tuned BERT using accuracy and weighted F1"
   ]
  },
  {
   "cell_type": "code",
   "execution_count": 15,
   "id": "579eae05",
   "metadata": {
    "scrolled": true
   },
   "outputs": [
    {
     "name": "stderr",
     "output_type": "stream",
     "text": [
      "C:\\Users\\11527\\anaconda3\\lib\\site-packages\\transformers\\tokenization_utils_base.py:2339: FutureWarning: The `pad_to_max_length` argument is deprecated and will be removed in a future version, use `padding=True` or `padding='longest'` to pad to the longest sequence in the batch, or use `padding='max_length'` to pad to a max length. In this case, you can give a specific length with `max_length` (e.g. `max_length=45`) or leave max_length to None to pad to the maximal input size of the model (e.g. 512 for Bert).\n",
      "  warnings.warn(\n"
     ]
    },
    {
     "name": "stdout",
     "output_type": "stream",
     "text": [
      "Accuracy: 0.7976060935799782\n",
      "Precision: 0.8006212136535319\n",
      "Recall: 0.7976060935799782\n",
      "F1 Score: 0.7986431373443679\n"
     ]
    }
   ],
   "source": [
    "from sklearn.metrics import accuracy_score, precision_recall_fscore_support\n",
    "import numpy as np\n",
    "\n",
    "# Function to evaluate the model\n",
    "def evaluate_model(model, data_loader, device):\n",
    "    model.eval()  # set model to evaluation mode\n",
    "\n",
    "    predictions, true_labels = [], []\n",
    "\n",
    "    with torch.no_grad():\n",
    "        for batch in data_loader:\n",
    "            input_ids = batch[\"input_ids\"].to(device)\n",
    "            attention_mask = batch[\"attention_mask\"].to(device)\n",
    "            labels = batch[\"labels\"].to(device)\n",
    "\n",
    "            outputs = model(input_ids=input_ids, attention_mask=attention_mask)\n",
    "            _, preds = torch.max(outputs.logits, dim=1)\n",
    "\n",
    "            predictions.extend(preds.tolist())\n",
    "            true_labels.extend(labels.tolist())\n",
    "\n",
    "    accuracy = accuracy_score(true_labels, predictions)\n",
    "    precision, recall, f1, _ = precision_recall_fscore_support(true_labels, predictions, average='weighted')\n",
    "    \n",
    "    return accuracy, precision, recall, f1\n",
    "\n",
    "# After training the model, evaluate its performance\n",
    "accuracy, precision, recall, f1 = evaluate_model(model, val_loader, device)\n",
    "\n",
    "print(f\"Accuracy: {accuracy}\")\n",
    "print(f\"Precision: {precision}\")\n",
    "print(f\"Recall: {recall}\")\n",
    "print(f\"F1 Score: {f1}\")"
   ]
  },
  {
   "cell_type": "code",
   "execution_count": 2,
   "id": "c8a20398",
   "metadata": {},
   "outputs": [],
   "source": [
    "import pandas as pd\n",
    "validation_df = pd.read_csv('bert_validation_predictions_with_tweets.csv')"
   ]
  },
  {
   "cell_type": "code",
   "execution_count": 3,
   "id": "29738b60",
   "metadata": {},
   "outputs": [
    {
     "data": {
      "text/html": [
       "<div>\n",
       "<style scoped>\n",
       "    .dataframe tbody tr th:only-of-type {\n",
       "        vertical-align: middle;\n",
       "    }\n",
       "\n",
       "    .dataframe tbody tr th {\n",
       "        vertical-align: top;\n",
       "    }\n",
       "\n",
       "    .dataframe thead th {\n",
       "        text-align: right;\n",
       "    }\n",
       "</style>\n",
       "<table border=\"1\" class=\"dataframe\">\n",
       "  <thead>\n",
       "    <tr style=\"text-align: right;\">\n",
       "      <th></th>\n",
       "      <th>Tweet</th>\n",
       "      <th>True Label</th>\n",
       "      <th>Predicted Label</th>\n",
       "    </tr>\n",
       "  </thead>\n",
       "  <tbody>\n",
       "    <tr>\n",
       "      <th>0</th>\n",
       "      <td>@csimpsyo @Tbogin @jonlovett Cultured meat</td>\n",
       "      <td>2</td>\n",
       "      <td>2</td>\n",
       "    </tr>\n",
       "    <tr>\n",
       "      <th>1</th>\n",
       "      <td>RT @ndonyourtable What's the difference betwee...</td>\n",
       "      <td>2</td>\n",
       "      <td>2</td>\n",
       "    </tr>\n",
       "    <tr>\n",
       "      <th>2</th>\n",
       "      <td>#Technology #Tech Lab-Grown Meat Is Coming htt...</td>\n",
       "      <td>2</td>\n",
       "      <td>2</td>\n",
       "    </tr>\n",
       "    <tr>\n",
       "      <th>3</th>\n",
       "      <td>This year is the first time cultivated meat ha...</td>\n",
       "      <td>2</td>\n",
       "      <td>2</td>\n",
       "    </tr>\n",
       "    <tr>\n",
       "      <th>4</th>\n",
       "      <td>RT @NewHarvestOrg 🍗and @UmaValeti, who co-foun...</td>\n",
       "      <td>2</td>\n",
       "      <td>2</td>\n",
       "    </tr>\n",
       "    <tr>\n",
       "      <th>...</th>\n",
       "      <td>...</td>\n",
       "      <td>...</td>\n",
       "      <td>...</td>\n",
       "    </tr>\n",
       "    <tr>\n",
       "      <th>4590</th>\n",
       "      <td>@Joseph_Plant What goes into lab grown meat? I...</td>\n",
       "      <td>1</td>\n",
       "      <td>1</td>\n",
       "    </tr>\n",
       "    <tr>\n",
       "      <th>4591</th>\n",
       "      <td>Google Funding Lab Grown Meat… No Animals Kill...</td>\n",
       "      <td>0</td>\n",
       "      <td>0</td>\n",
       "    </tr>\n",
       "    <tr>\n",
       "      <th>4592</th>\n",
       "      <td>RT @Orbyne #LSEForum cultured meat avoids the ...</td>\n",
       "      <td>0</td>\n",
       "      <td>0</td>\n",
       "    </tr>\n",
       "    <tr>\n",
       "      <th>4593</th>\n",
       "      <td>@MusadADroid @AuthorGusPegel The answer would ...</td>\n",
       "      <td>3</td>\n",
       "      <td>0</td>\n",
       "    </tr>\n",
       "    <tr>\n",
       "      <th>4594</th>\n",
       "      <td>@guardiannews LAB-GROWN MEAT HITS A MAJOR MILE...</td>\n",
       "      <td>2</td>\n",
       "      <td>2</td>\n",
       "    </tr>\n",
       "  </tbody>\n",
       "</table>\n",
       "<p>4595 rows × 3 columns</p>\n",
       "</div>"
      ],
      "text/plain": [
       "                                                  Tweet  True Label  \\\n",
       "0            @csimpsyo @Tbogin @jonlovett Cultured meat           2   \n",
       "1     RT @ndonyourtable What's the difference betwee...           2   \n",
       "2     #Technology #Tech Lab-Grown Meat Is Coming htt...           2   \n",
       "3     This year is the first time cultivated meat ha...           2   \n",
       "4     RT @NewHarvestOrg 🍗and @UmaValeti, who co-foun...           2   \n",
       "...                                                 ...         ...   \n",
       "4590  @Joseph_Plant What goes into lab grown meat? I...           1   \n",
       "4591  Google Funding Lab Grown Meat… No Animals Kill...           0   \n",
       "4592  RT @Orbyne #LSEForum cultured meat avoids the ...           0   \n",
       "4593  @MusadADroid @AuthorGusPegel The answer would ...           3   \n",
       "4594  @guardiannews LAB-GROWN MEAT HITS A MAJOR MILE...           2   \n",
       "\n",
       "      Predicted Label  \n",
       "0                   2  \n",
       "1                   2  \n",
       "2                   2  \n",
       "3                   2  \n",
       "4                   2  \n",
       "...               ...  \n",
       "4590                1  \n",
       "4591                0  \n",
       "4592                0  \n",
       "4593                0  \n",
       "4594                2  \n",
       "\n",
       "[4595 rows x 3 columns]"
      ]
     },
     "execution_count": 3,
     "metadata": {},
     "output_type": "execute_result"
    }
   ],
   "source": [
    "validation_df"
   ]
  },
  {
   "cell_type": "code",
   "execution_count": 4,
   "id": "4d71ae56",
   "metadata": {},
   "outputs": [
    {
     "data": {
      "image/png": "[encoded data removed]",
      "text/plain": [
       "<Figure size 880x880 with 2 Axes>"
      ]
     },
     "metadata": {},
     "output_type": "display_data"
    }
   ],
   "source": [
    "import matplotlib.pyplot as plt\n",
    "from sklearn.metrics import confusion_matrix, ConfusionMatrixDisplay\n",
    "\n",
    "# Define a mapping of numeric labels to sentiment labels\n",
    "label_mapping = {0: 'positive', 1: 'negative', 2: 'neutral', 3: 'combination'}\n",
    "sentiment_labels = [label_mapping[i] for i in range(4)]  # List of sentiment labels in order\n",
    "\n",
    "# Generate the confusion matrix\n",
    "conf_matrix = confusion_matrix(validation_df['True Label'], validation_df['Predicted Label'])\n",
    "\n",
    "disp = ConfusionMatrixDisplay(confusion_matrix=conf_matrix, display_labels=sentiment_labels)\n",
    "\n",
    "# Plot the confusion matrix\n",
    "plt.rc('font', family='Times New Roman')  # Set the font to Times New Roman\n",
    "fig, ax = plt.subplots(figsize=(4, 4), dpi=220)  # Increase figure size and resolution\n",
    "disp.plot(cmap='Blues', ax=ax, values_format='d')  # Format numbers as integers\n",
    "\n",
    "# Customize the text size of numbers in the matrix\n",
    "for text in disp.text_.ravel():\n",
    "    text.set_fontsize(12)  # Increase font size of numbers in the matrix\n",
    "\n",
    "# Set titles and labels with the desired font\n",
    "#plt.title(\"Confusion Matrix\", fontname='Times New Roman', fontsize=14)\n",
    "plt.xlabel(\"Predicted Labels\", fontname='Times New Roman', fontsize=12)\n",
    "plt.ylabel(\"True Labels\", fontname='Times New Roman', fontsize=12)\n",
    "plt.show()"
   ]
  }
 ],
 "metadata": {
  "kernelspec": {
   "display_name": "Python 3 (ipykernel)",
   "language": "python",
   "name": "python3"
  },
  "language_info": {
   "codemirror_mode": {
    "name": "ipython",
    "version": 3
   },
   "file_extension": ".py",
   "mimetype": "text/x-python",
   "name": "python",
   "nbconvert_exporter": "python",
   "pygments_lexer": "ipython3",
   "version": "3.7.4"
  }
 },
 "nbformat": 4,
 "nbformat_minor": 5
}
